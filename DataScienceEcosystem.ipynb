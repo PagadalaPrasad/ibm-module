{
 "cells": [
  {
   "cell_type": "markdown",
   "id": "6bb91dcd",
   "metadata": {},
   "source": [
    "# Data Science Tools and Ecosystem"
   ]
  },
  {
   "cell_type": "markdown",
   "id": "3118dd07",
   "metadata": {},
   "source": [
    "In this notebook, Data Science Tools and Ecosystem are summarized"
   ]
  },
  {
   "cell_type": "markdown",
   "id": "0308e884",
   "metadata": {},
   "source": [
    "#Objectives:\n",
    "- Python\n",
    "- R\n",
    "- Julia\n",
    "- MySQL\n",
    "- Scala"
   ]
  },
  {
   "cell_type": "markdown",
   "id": "2271b33a",
   "metadata": {},
   "source": [
    "Some of the popular languages that Data Scientists use are:\n",
    "1) Python\n",
    "2) R\n",
    "3) Julia"
   ]
  },
  {
   "cell_type": "markdown",
   "id": "b8027b71",
   "metadata": {},
   "source": [
    "Some of the commonly used libraries used by Data Scientists include:\n",
    "1) Numpy\n",
    "2) Pandas\n",
    "3) Matplotlib"
   ]
  },
  {
   "cell_type": "markdown",
   "id": "1944badb",
   "metadata": {},
   "source": [
    "| Data Science Tools |\n",
    "---------------------\n",
    "| Jupyter |\n",
    "| Python packages |\n",
    "| RStudio |"
   ]
  },
  {
   "cell_type": "markdown",
   "id": "43b917ca",
   "metadata": {},
   "source": [
    "# Below are a few examples of evaluating arithmetic expressions in Python ###"
   ]
  },
  {
   "cell_type": "code",
   "execution_count": 5,
   "id": "bff059c3",
   "metadata": {},
   "outputs": [
    {
     "data": {
      "text/plain": [
       "17"
      ]
     },
     "execution_count": 5,
     "metadata": {},
     "output_type": "execute_result"
    }
   ],
   "source": [
    "#this is simple arithmetic expression to multiply then add integers\n",
    "a = (3*4)+5\n",
    "a"
   ]
  },
  {
   "cell_type": "code",
   "execution_count": 10,
   "id": "2d119587",
   "metadata": {},
   "outputs": [
    {
     "name": "stdout",
     "output_type": "stream",
     "text": [
      "Enter the time in minutes :500\n",
      "8.333333333333334\n"
     ]
    }
   ],
   "source": [
    "#This will convert 200 minutes to hours by diving by 60\n",
    "minutes = int(input(\"Enter the time in minutes :\"))\n",
    "time = minutes/60\n",
    "print(time)"
   ]
  },
  {
   "cell_type": "markdown",
   "id": "0ff72a01",
   "metadata": {},
   "source": [
    "# Author\n",
    "PagadalaPrasad"
   ]
  },
  {
   "cell_type": "code",
   "execution_count": null,
   "id": "bf4679da",
   "metadata": {},
   "outputs": [],
   "source": []
  }
 ],
 "metadata": {
  "kernelspec": {
   "display_name": "Python 3 (ipykernel)",
   "language": "python",
   "name": "python3"
  },
  "language_info": {
   "codemirror_mode": {
    "name": "ipython",
    "version": 3
   },
   "file_extension": ".py",
   "mimetype": "text/x-python",
   "name": "python",
   "nbconvert_exporter": "python",
   "pygments_lexer": "ipython3",
   "version": "3.10.9"
  }
 },
 "nbformat": 4,
 "nbformat_minor": 5
}
